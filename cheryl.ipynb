{
 "cells": [
  {
   "cell_type": "markdown",
   "metadata": {},
   "source": [
    "# Solving and Generating Puzzles like *Find Cheryl's birthday*"
   ]
  },
  {
   "cell_type": "markdown",
   "metadata": {},
   "source": [
    "[Finding Cheryl's birthday](http://www.nytimes.com/2015/04/15/science/a-math-problem-from-singapore-goes-viral-when-is-cheryls-birthday.html) is a fun puzzle. But what if the situation were more complex? What if apart from Albert and Bernard there was also Carl, and between the three of them they had to guess Cheryl's complete birthday, including the year she was born?\n",
    "\n",
    "The strategy for solving such puzzles stays the same, but the paper-and-pencil approach quickly becomes tedious as the puzzles become more complex. Also, how would we come up with such puzzles in the first place? Going through a large list of possible permutations before arriving at an interesting version would be even more time consuming.\n",
    "\n",
    "Inspired by Peter Norvig's [IPython notebook](http://nbviewer.ipython.org/url/norvig.com/ipython/Cheryl.ipynb) on finding Cheryl's birthday in Python, [`cheryl`](https://github.com/bembom/cheryl) is a Python module for generating and solving such problems in a more general way."
   ]
  },
  {
   "cell_type": "markdown",
   "metadata": {},
   "source": [
    "## Solving Puzzles"
   ]
  },
  {
   "cell_type": "markdown",
   "metadata": {},
   "source": [
    "Let's use `cheryl` to solve the original problem:"
   ]
  },
  {
   "cell_type": "code",
   "execution_count": 1,
   "metadata": {
    "collapsed": false
   },
   "outputs": [
    {
     "data": {
      "text/plain": [
       "('July', 16)"
      ]
     },
     "execution_count": 1,
     "metadata": {},
     "output_type": "execute_result"
    }
   ],
   "source": [
    "from cheryl import Game, Statement, Knows\n",
    "\n",
    "candidates = [\n",
    "    ('May', 15), ('May', 16), ('May', 19),\n",
    "    ('June', 17), ('June', 18),\n",
    "    ('July', 14), ('July', 16),\n",
    "    ('Aug', 14), ('Aug', 15), ('Aug', 17)\n",
    "    ]\n",
    "\n",
    "game = Game(candidates, player_names=['Albert', 'Bernard'])\n",
    "\n",
    "statement1 = Statement(\n",
    "        author='Albert',\n",
    "        facts={'Albert': Knows.no, 'Bernard': Knows.no}\n",
    "        )\n",
    "statement2 = Statement(\n",
    "        author='Bernard',\n",
    "        facts={'Bernard': Knows.yes}\n",
    "        )\n",
    "statement3 = Statement(\n",
    "        author='Albert',\n",
    "        facts={'Albert': Knows.yes}\n",
    "        )\n",
    "\n",
    "game.get_solution([statement1, statement2, statement3])"
   ]
  },
  {
   "cell_type": "markdown",
   "metadata": {},
   "source": [
    "We can also ask to see the progression of candidate values that are still in play as each statement is applied as a filter:"
   ]
  },
  {
   "cell_type": "code",
   "execution_count": 2,
   "metadata": {
    "collapsed": false
   },
   "outputs": [
    {
     "name": "stdout",
     "output_type": "stream",
     "text": [
      "Before filtering:\n",
      "Albert\tBernard\n",
      "Aug 15\tJuly 14\n",
      "Aug 14\tAug 14\n",
      "Aug 17\tMay 15\n",
      "July 14\tAug 15\n",
      "July 16\tMay 16\n",
      "June 17\tJuly 16\n",
      "June 18\tJune 17\n",
      "May 19\tAug 17\n",
      "May 16\tJune 18\n",
      "May 15\tMay 19\n",
      "\n",
      "After applying statement 1:\n",
      "Albert\tBernard\n",
      "Aug 15\tAug 14\n",
      "Aug 14\tJuly 14\n",
      "Aug 17\tAug 15\n",
      "July 16\tJuly 16\n",
      "July 14\tAug 17\n",
      "\n",
      "After applying statement 2:\n",
      "Albert\tBernard\n",
      "Aug 15\tAug 15\n",
      "Aug 17\tJuly 16\n",
      "July 16\tAug 17\n",
      "\n",
      "After applying statement 3:\n",
      "Albert \tBernard\n",
      "July 16\tJuly 16\n"
     ]
    },
    {
     "data": {
      "text/plain": [
       "('July', 16)"
      ]
     },
     "execution_count": 2,
     "metadata": {},
     "output_type": "execute_result"
    }
   ],
   "source": [
    "game.get_solution([statement1, statement2, statement3], trace=True)"
   ]
  },
  {
   "cell_type": "markdown",
   "metadata": {},
   "source": [
    "At each point, the candidate values are sorted for each candidate based on the piece of information they were told."
   ]
  },
  {
   "cell_type": "markdown",
   "metadata": {},
   "source": [
    "The `candidates` list contains the candidate values that Cheryl gives Albert and Bernard. A `Game` object is instantiated from these candidates values and a list of player names.\n",
    "\n",
    "Next we instantiate `Statement`s that represent what Albert and Bernard know at the various stages of the game. First Albert states that neither he nor Bernard know the solution, using the `Enum` class `Knows`. After Albert has made his statement, Bernard says that he now knows the solution. After this statement, now Albert knows too.\n",
    "\n",
    "The solution is found through a method call to `get_solution`, which takes a `list` of `Statement`s that must be true when evaluated one after another."
   ]
  },
  {
   "cell_type": "markdown",
   "metadata": {},
   "source": [
    "Next let's consider the more complex game, in which Albert, Bernard and Carl guess Cheryl's full birthday. Again Cheryl gives 10 candidate dates:"
   ]
  },
  {
   "cell_type": "code",
   "execution_count": 3,
   "metadata": {
    "collapsed": true
   },
   "outputs": [],
   "source": [
    "candidates = [\n",
    "    (1970, 'May', 19), (1970, 'July', 18), (1971, 'May', 19),\n",
    "    (1971, 'July', 19), (1973, 'May', 18), (1973, 'June', 18), \n",
    "    (1973, 'Aug', 16), (1973, 'Aug', 18), (1974, 'June', 18), \n",
    "    (1974, 'Sept', 18)    \n",
    "    ]\n",
    "\n",
    "game = Game(candidates, player_names=['Albert', 'Bernard', 'Carl'])"
   ]
  },
  {
   "cell_type": "markdown",
   "metadata": {},
   "source": [
    "In this case it might take the three of them a little longer to figure out her birthday. Each of them might, for example, say that they don't know the answer yet, before Albert finally arrives at it in statement 10:"
   ]
  },
  {
   "cell_type": "code",
   "execution_count": 4,
   "metadata": {
    "collapsed": true
   },
   "outputs": [],
   "source": [
    "statements = [Statement(author='Albert', facts={'Albert': Knows.no}),\n",
    "              Statement(author='Bernard', facts={'Bernard': Knows.no}),\n",
    "              Statement(author='Carl', facts={'Carl': Knows.no}),\n",
    "              Statement(author='Albert', facts={'Albert': Knows.no}),\n",
    "              Statement(author='Bernard', facts={'Bernard': Knows.no}),\n",
    "              Statement(author='Carl', facts={'Carl': Knows.no}),\n",
    "              Statement(author='Albert', facts={'Albert': Knows.no}),\n",
    "              Statement(author='Bernard', facts={'Bernard': Knows.no}),\n",
    "              Statement(author='Carl', facts={'Carl': Knows.no}),\n",
    "              Statement(author='Albert', facts={'Albert': Knows.yes}),\n",
    "            ]"
   ]
  },
  {
   "cell_type": "markdown",
   "metadata": {},
   "source": [
    "Given the candidate values above, this game has a unique solution:"
   ]
  },
  {
   "cell_type": "code",
   "execution_count": 5,
   "metadata": {
    "collapsed": false
   },
   "outputs": [
    {
     "data": {
      "text/plain": [
       "(1970, 'May', 19)"
      ]
     },
     "execution_count": 5,
     "metadata": {},
     "output_type": "execute_result"
    }
   ],
   "source": [
    "game.get_solution(statements)"
   ]
  },
  {
   "cell_type": "markdown",
   "metadata": {},
   "source": [
    "Again we can look at the trace as statements are applied:"
   ]
  },
  {
   "cell_type": "code",
   "execution_count": 6,
   "metadata": {
    "collapsed": false
   },
   "outputs": [
    {
     "name": "stdout",
     "output_type": "stream",
     "text": [
      "Before filtering:\n",
      "  Albert   \t  Bernard  \t   Carl    \n",
      "1970 May 19\t1973 Aug 16\t1973 Aug 16\n",
      "1970 July 18\t1973 Aug 18\t1974 June 18\n",
      "1971 July 19\t1971 July 19\t1973 June 18\n",
      "1971 May 19\t1970 July 18\t1973 May 18\n",
      "1973 June 18\t1974 June 18\t1974 Sept 18\n",
      "1973 Aug 16\t1973 June 18\t1973 Aug 18\n",
      "1973 May 18\t1971 May 19\t1970 July 18\n",
      "1973 Aug 18\t1973 May 18\t1971 July 19\n",
      "1974 June 18\t1970 May 19\t1971 May 19\n",
      "1974 Sept 18\t1974 Sept 18\t1970 May 19\n",
      "\n",
      "After applying statement 1:\n",
      "  Albert   \t  Bernard  \t   Carl    \n",
      "1970 May 19\t1973 Aug 16\t1973 Aug 16\n",
      "1970 July 18\t1973 Aug 18\t1974 June 18\n",
      "1971 July 19\t1971 July 19\t1973 June 18\n",
      "1971 May 19\t1970 July 18\t1973 May 18\n",
      "1973 Aug 16\t1974 June 18\t1974 Sept 18\n",
      "1973 June 18\t1973 June 18\t1973 Aug 18\n",
      "1973 May 18\t1971 May 19\t1970 July 18\n",
      "1973 Aug 18\t1973 May 18\t1971 July 19\n",
      "1974 June 18\t1970 May 19\t1971 May 19\n",
      "1974 Sept 18\t1974 Sept 18\t1970 May 19\n",
      "\n",
      "After applying statement 2:\n",
      "  Albert   \t  Bernard  \t   Carl    \n",
      "1970 May 19\t1973 Aug 16\t1973 Aug 16\n",
      "1970 July 18\t1973 Aug 18\t1974 June 18\n",
      "1971 May 19\t1971 July 19\t1973 June 18\n",
      "1971 July 19\t1970 July 18\t1973 May 18\n",
      "1973 Aug 16\t1974 June 18\t1973 Aug 18\n",
      "1973 June 18\t1973 June 18\t1970 July 18\n",
      "1973 May 18\t1971 May 19\t1971 May 19\n",
      "1973 Aug 18\t1973 May 18\t1971 July 19\n",
      "1974 June 18\t1970 May 19\t1970 May 19\n",
      "\n",
      "After applying statement 3:\n",
      "  Albert   \t  Bernard  \t   Carl    \n",
      "1970 May 19\t1973 Aug 18\t1974 June 18\n",
      "1970 July 18\t1971 July 19\t1973 June 18\n",
      "1971 July 19\t1970 July 18\t1973 May 18\n",
      "1971 May 19\t1974 June 18\t1973 Aug 18\n",
      "1973 June 18\t1973 June 18\t1970 July 18\n",
      "1973 May 18\t1971 May 19\t1971 July 19\n",
      "1973 Aug 18\t1973 May 18\t1971 May 19\n",
      "1974 June 18\t1970 May 19\t1970 May 19\n",
      "\n",
      "After applying statement 4:\n",
      "  Albert   \t  Bernard  \t   Carl    \n",
      "1970 May 19\t1973 Aug 18\t1973 June 18\n",
      "1970 July 18\t1971 July 19\t1973 May 18\n",
      "1971 July 19\t1970 July 18\t1973 Aug 18\n",
      "1971 May 19\t1973 June 18\t1970 July 18\n",
      "1973 June 18\t1971 May 19\t1971 July 19\n",
      "1973 May 18\t1973 May 18\t1971 May 19\n",
      "1973 Aug 18\t1970 May 19\t1970 May 19\n",
      "\n",
      "After applying statement 5:\n",
      "   Albert   \t  Bernard   \t    Carl    \n",
      "1970 July 18\t1970 July 18\t1973 May 18\n",
      "1970 May 19\t1971 July 19\t1970 July 18\n",
      "1971 July 19\t1973 May 18\t1970 May 19\n",
      "1971 May 19\t1970 May 19\t1971 July 19\n",
      "1973 May 18\t1971 May 19\t1971 May 19\n",
      "\n",
      "After applying statement 6:\n",
      "  Albert   \t  Bernard  \t   Carl    \n",
      "1970 May 19\t1971 July 19\t1973 May 18\n",
      "1970 July 18\t1970 July 18\t1970 July 18\n",
      "1971 July 19\t1971 May 19\t1971 July 19\n",
      "1971 May 19\t1970 May 19\t1971 May 19\n",
      "1973 May 18\t1973 May 18\t1970 May 19\n",
      "\n",
      "After applying statement 7:\n",
      "   Albert   \t  Bernard   \t    Carl    \n",
      "1970 July 18\t1970 July 18\t1970 July 18\n",
      "1970 May 19\t1971 July 19\t1970 May 19\n",
      "1971 July 19\t1970 May 19\t1971 July 19\n",
      "1971 May 19\t1971 May 19\t1971 May 19\n",
      "\n",
      "After applying statement 8:\n",
      "  Albert   \t  Bernard  \t   Carl    \n",
      "1970 May 19\t1970 July 18\t1970 July 18\n",
      "1970 July 18\t1971 July 19\t1971 May 19\n",
      "1971 May 19\t1971 May 19\t1970 May 19\n",
      "1971 July 19\t1970 May 19\t1971 July 19\n",
      "\n",
      "After applying statement 9:\n",
      "  Albert   \t  Bernard  \t   Carl    \n",
      "1970 May 19\t1971 July 19\t1970 May 19\n",
      "1971 July 19\t1970 May 19\t1971 July 19\n",
      "1971 May 19\t1971 May 19\t1971 May 19\n",
      "\n",
      "After applying statement 10:\n",
      "  Albert   \t  Bernard  \t   Carl    \n",
      "1970 May 19\t1970 May 19\t1970 May 19\n"
     ]
    },
    {
     "data": {
      "text/plain": [
       "(1970, 'May', 19)"
      ]
     },
     "execution_count": 6,
     "metadata": {},
     "output_type": "execute_result"
    }
   ],
   "source": [
    "game.get_solution(statements, trace=True)"
   ]
  },
  {
   "cell_type": "markdown",
   "metadata": {},
   "source": [
    "Let's look at another example:"
   ]
  },
  {
   "cell_type": "code",
   "execution_count": 7,
   "metadata": {
    "collapsed": true
   },
   "outputs": [],
   "source": [
    "candidates = [\n",
    "    (1970, 'Aug', 16), (1970, 'July', 15), (1970, 'Sept', 18), \n",
    "    (1971, 'Aug', 15), (1971, 'Aug', 17), (1972, 'Sept', 17), \n",
    "    (1973, 'July', 15), (1973, 'May', 17), (1974, 'July', 19), \n",
    "    (1974, 'Sept', 15)\n",
    "    ]\n",
    "\n",
    "\n",
    "game = Game(candidates, player_names=['Albert', 'Bernard', 'Carl'])\n",
    "\n",
    "statements = [Statement(author='Albert', \n",
    "                        facts={'Albert': Knows.no, ('Bernard', 'Carl'): Knows.maybe}),\n",
    "              Statement(author='Bernard', \n",
    "                        facts={'Bernard': Knows.no, ('Albert', 'Carl'): Knows.maybe}),\n",
    "              Statement(author='Carl', \n",
    "                        facts={'Carl': Knows.no, ('Albert', 'Bernard'): Knows.maybe}),\n",
    "              Statement(author='Albert', \n",
    "                        facts={'Albert': Knows.yes}),\n",
    "              Statement(author='Bernard', \n",
    "                        facts={'Bernard': Knows.yes}),\n",
    "              Statement(author='Carl', \n",
    "                        facts={'Carl': Knows.yes}),\n",
    "             ]"
   ]
  },
  {
   "cell_type": "markdown",
   "metadata": {},
   "source": [
    "In this case, Albert starts off by saying that he does not know the solution, but that either Bernard or Carl might know. This introduces the syntax of giving a tuple of names to denote that the following state is true for at least one of the named players. It also introduces the new state of knowing the solution 'maybe'. This means that when Albert looks at the values that are compatible with what Cheryl told him, there is at least one such value for which either Bernard or Carl knows the solution. In other words, Albert cannot be certain that both of them do *not* know the solution.\n",
    "\n",
    "This game continues with Bernard and Carl making equivalent statements, before everyone figures out the answer in the second round. \n",
    "\n",
    "This game also has a unique solution:"
   ]
  },
  {
   "cell_type": "code",
   "execution_count": 8,
   "metadata": {
    "collapsed": false
   },
   "outputs": [
    {
     "name": "stdout",
     "output_type": "stream",
     "text": [
      "Before filtering:\n",
      "   Albert   \t  Bernard   \t    Carl    \n",
      "1970 Sept 18\t1971 Aug 17\t1973 July 15\n",
      "1970 Aug 16\t1970 Aug 16\t1970 July 15\n",
      "1970 July 15\t1971 Aug 15\t1974 Sept 15\n",
      "1971 Aug 17\t1973 July 15\t1971 Aug 15\n",
      "1971 Aug 15\t1970 July 15\t1970 Aug 16\n",
      "1972 Sept 17\t1974 July 19\t1971 Aug 17\n",
      "1973 May 17\t1973 May 17\t1972 Sept 17\n",
      "1973 July 15\t1972 Sept 17\t1973 May 17\n",
      "1974 Sept 15\t1970 Sept 18\t1970 Sept 18\n",
      "1974 July 19\t1974 Sept 15\t1974 July 19\n",
      "\n",
      "After applying statement 1:\n",
      "   Albert   \t  Bernard   \t    Carl    \n",
      "1970 Sept 18\t1970 Aug 16\t1973 July 15\n",
      "1970 Aug 16\t1973 July 15\t1970 July 15\n",
      "1970 July 15\t1970 July 15\t1974 Sept 15\n",
      "1973 May 17\t1974 July 19\t1970 Aug 16\n",
      "1973 July 15\t1973 May 17\t1973 May 17\n",
      "1974 Sept 15\t1970 Sept 18\t1970 Sept 18\n",
      "1974 July 19\t1974 Sept 15\t1974 July 19\n",
      "\n",
      "After applying statement 2:\n",
      "   Albert   \t  Bernard   \t    Carl    \n",
      "1970 July 15\t1973 July 15\t1973 July 15\n",
      "1970 Sept 18\t1970 July 15\t1970 July 15\n",
      "1973 July 15\t1974 July 19\t1974 Sept 15\n",
      "1974 July 19\t1970 Sept 18\t1970 Sept 18\n",
      "1974 Sept 15\t1974 Sept 15\t1974 July 19\n",
      "\n",
      "After applying statement 3:\n",
      "   Albert   \t  Bernard   \t    Carl    \n",
      "1970 July 15\t1973 July 15\t1973 July 15\n",
      "1973 July 15\t1970 July 15\t1970 July 15\n",
      "1974 Sept 15\t1974 Sept 15\t1974 Sept 15\n",
      "\n",
      "After applying statement 4:\n",
      "   Albert   \t  Bernard   \t    Carl    \n",
      "1970 July 15\t1973 July 15\t1973 July 15\n",
      "1973 July 15\t1970 July 15\t1970 July 15\n",
      "1974 Sept 15\t1974 Sept 15\t1974 Sept 15\n",
      "\n",
      "After applying statement 5:\n",
      "   Albert   \t  Bernard   \t    Carl    \n",
      "1974 Sept 15\t1974 Sept 15\t1974 Sept 15\n",
      "\n",
      "After applying statement 6:\n",
      "   Albert   \t  Bernard   \t    Carl    \n",
      "1974 Sept 15\t1974 Sept 15\t1974 Sept 15\n"
     ]
    },
    {
     "data": {
      "text/plain": [
       "(1974, 'Sept', 15)"
      ]
     },
     "execution_count": 8,
     "metadata": {},
     "output_type": "execute_result"
    }
   ],
   "source": [
    "game.get_solution(statements, trace=True)"
   ]
  },
  {
   "cell_type": "markdown",
   "metadata": {},
   "source": [
    "## Generating Puzzles"
   ]
  },
  {
   "cell_type": "markdown",
   "metadata": {},
   "source": [
    "These are the kinds of games that can be solved with `cheryl`. But how were these particular configurations found to begin with?\n",
    "\n",
    "The module provides a function `find_games` that can be used to search for a configuration that satisfies a given list of `Statements`:"
   ]
  },
  {
   "cell_type": "code",
   "execution_count": 9,
   "metadata": {
    "collapsed": true
   },
   "outputs": [],
   "source": [
    "from cheryl import find_game\n",
    "\n",
    "domains = [range(1970, 1975), \n",
    "           ['May', 'June', 'July', 'Aug', 'Sept'], \n",
    "           range(15, 20)]\n",
    "\n",
    "n_candidates = 10\n",
    "\n",
    "statements = [Statement(author='Albert', \n",
    "                        facts={'Albert': Knows.no, ('Bernard', 'Carl'): Knows.maybe}),\n",
    "              Statement(author='Bernard', \n",
    "                        facts={'Bernard': Knows.no, ('Albert', 'Carl'): Knows.maybe}),\n",
    "              Statement(author='Carl', \n",
    "                        facts={'Carl': Knows.no, ('Albert', 'Bernard'): Knows.maybe}),\n",
    "              Statement(author='Albert', \n",
    "                        facts={'Albert': Knows.yes, 'Carl': Knows.no}),\n",
    "              Statement(author='Bernard', \n",
    "                        facts={'Bernard': Knows.yes, 'Carl': Knows.yes}),\n",
    "              Statement(author='Carl', \n",
    "                        facts={'Carl': Knows.yes}),\n",
    "             ]\n",
    "\n",
    "game = find_game(domains, n_candidates, statements, n_tries=500, \n",
    "                 player_names=['Albert', 'Bernard', 'Carl'])"
   ]
  },
  {
   "cell_type": "markdown",
   "metadata": {},
   "source": [
    "First we define the domain of possible values for each dimension, with the birth year ranging from 1970 to 1974, the month from May to September, and the day from 15 to 19. Next we specify that Cheryl will give the players 10 candidate values. This list of statements that are to lead to a unique solution is given next. In the call to `find_game` we also specify that the function should try at most 500 random samples of candidate values from the given domains. If no solution is found within those iteration, an exception will be thrown. \n",
    "\n",
    "In this case, the call succeeds and we can examine the solution as before:"
   ]
  },
  {
   "cell_type": "code",
   "execution_count": 10,
   "metadata": {
    "collapsed": false
   },
   "outputs": [
    {
     "name": "stdout",
     "output_type": "stream",
     "text": [
      "Before filtering:\n",
      "  Albert   \t  Bernard  \t   Carl    \n",
      "1971 May 17\t1972 Aug 18\t1974 June 15\n",
      "1971 Aug 17\t1971 Aug 17\t1974 July 16\n",
      "1971 Aug 18\t1971 Aug 18\t1971 May 16\n",
      "1971 Aug 19\t1971 Aug 19\t1971 May 17\n",
      "1971 May 16\t1974 July 16\t1971 Aug 17\n",
      "1971 June 18\t1974 June 15\t1972 Aug 18\n",
      "1972 Aug 18\t1971 June 18\t1971 Aug 18\n",
      "1972 Sept 18\t1971 May 17\t1971 June 18\n",
      "1974 July 16\t1971 May 16\t1972 Sept 18\n",
      "1974 June 15\t1972 Sept 18\t1971 Aug 19\n",
      "\n",
      "After applying statement 1:\n",
      "  Albert   \t  Bernard  \t   Carl    \n",
      "1971 May 17\t1972 Aug 18\t1974 June 15\n",
      "1971 Aug 17\t1971 Aug 17\t1974 July 16\n",
      "1971 Aug 18\t1971 Aug 18\t1971 May 16\n",
      "1971 Aug 19\t1971 Aug 19\t1971 May 17\n",
      "1971 May 16\t1974 July 16\t1971 Aug 17\n",
      "1971 June 18\t1974 June 15\t1972 Aug 18\n",
      "1972 Aug 18\t1971 June 18\t1971 Aug 18\n",
      "1972 Sept 18\t1971 May 17\t1971 June 18\n",
      "1974 July 16\t1971 May 16\t1972 Sept 18\n",
      "1974 June 15\t1972 Sept 18\t1971 Aug 19\n",
      "\n",
      "After applying statement 2:\n",
      "  Albert   \t  Bernard  \t   Carl    \n",
      "1971 Aug 17\t1972 Aug 18\t1974 June 15\n",
      "1971 Aug 18\t1971 Aug 17\t1971 Aug 17\n",
      "1971 Aug 19\t1971 Aug 18\t1972 Aug 18\n",
      "1971 June 18\t1971 Aug 19\t1971 Aug 18\n",
      "1972 Aug 18\t1974 June 15\t1971 June 18\n",
      "1974 June 15\t1971 June 18\t1971 Aug 19\n",
      "\n",
      "After applying statement 3:\n",
      "  Albert   \t  Bernard  \t   Carl    \n",
      "1971 Aug 18\t1971 Aug 18\t1971 Aug 18\n",
      "1971 June 18\t1972 Aug 18\t1972 Aug 18\n",
      "1972 Aug 18\t1971 June 18\t1971 June 18\n",
      "\n",
      "After applying statement 4:\n",
      "  Albert   \t  Bernard  \t   Carl    \n",
      "1972 Aug 18\t1972 Aug 18\t1972 Aug 18\n",
      "\n",
      "After applying statement 5:\n",
      "  Albert   \t  Bernard  \t   Carl    \n",
      "1972 Aug 18\t1972 Aug 18\t1972 Aug 18\n",
      "\n",
      "After applying statement 6:\n",
      "  Albert   \t  Bernard  \t   Carl    \n",
      "1972 Aug 18\t1972 Aug 18\t1972 Aug 18\n"
     ]
    },
    {
     "data": {
      "text/plain": [
       "(1972, 'Aug', 18)"
      ]
     },
     "execution_count": 10,
     "metadata": {},
     "output_type": "execute_result"
    }
   ],
   "source": [
    "game.get_solution(statements, trace=True)"
   ]
  },
  {
   "cell_type": "markdown",
   "metadata": {},
   "source": [
    "As another example we look for a game in which each player first states that neither he nor anyone else knows the answer, before every player then finds the solution in the second round:"
   ]
  },
  {
   "cell_type": "code",
   "execution_count": 11,
   "metadata": {
    "collapsed": false
   },
   "outputs": [
    {
     "name": "stdout",
     "output_type": "stream",
     "text": [
      "Before filtering:\n",
      "  Albert   \t  Bernard  \t   Carl    \n",
      "1970 Aug 18\t1970 Aug 18\t1972 Sept 15\n",
      "1970 July 19\t1973 Aug 19\t1973 June 15\n",
      "1970 Sept 18\t1971 Aug 17\t1971 June 16\n",
      "1971 Aug 17\t1970 July 19\t1971 Aug 17\n",
      "1971 June 16\t1973 July 19\t1970 Aug 18\n",
      "1972 Sept 15\t1971 June 16\t1970 Sept 18\n",
      "1973 Aug 19\t1974 June 19\t1973 Aug 19\n",
      "1973 July 19\t1973 June 15\t1970 July 19\n",
      "1973 June 15\t1972 Sept 15\t1973 July 19\n",
      "1974 June 19\t1970 Sept 18\t1974 June 19\n",
      "\n",
      "After applying statement 1:\n",
      "  Albert   \t  Bernard  \t   Carl    \n",
      "1970 Aug 18\t1970 Aug 18\t1973 June 15\n",
      "1970 July 19\t1973 Aug 19\t1970 Aug 18\n",
      "1970 Sept 18\t1970 July 19\t1970 Sept 18\n",
      "1973 Aug 19\t1973 July 19\t1973 Aug 19\n",
      "1973 July 19\t1973 June 15\t1970 July 19\n",
      "1973 June 15\t1970 Sept 18\t1973 July 19\n",
      "\n",
      "After applying statement 2:\n",
      "  Albert   \t  Bernard  \t   Carl    \n",
      "1970 Aug 18\t1970 Aug 18\t1970 Aug 18\n",
      "1970 July 19\t1973 Aug 19\t1973 Aug 19\n",
      "1973 Aug 19\t1973 July 19\t1973 July 19\n",
      "1973 July 19\t1970 July 19\t1970 July 19\n",
      "\n",
      "After applying statement 3:\n",
      "   Albert   \t  Bernard   \t    Carl    \n",
      "1970 July 19\t1973 Aug 19\t1973 Aug 19\n",
      "1973 Aug 19\t1973 July 19\t1973 July 19\n",
      "1973 July 19\t1970 July 19\t1970 July 19\n",
      "\n",
      "After applying statement 4:\n",
      "   Albert   \t  Bernard   \t    Carl    \n",
      "1970 July 19\t1970 July 19\t1970 July 19\n",
      "\n",
      "After applying statement 5:\n",
      "   Albert   \t  Bernard   \t    Carl    \n",
      "1970 July 19\t1970 July 19\t1970 July 19\n",
      "\n",
      "After applying statement 6:\n",
      "   Albert   \t  Bernard   \t    Carl    \n",
      "1970 July 19\t1970 July 19\t1970 July 19\n"
     ]
    },
    {
     "data": {
      "text/plain": [
       "(1970, 'July', 19)"
      ]
     },
     "execution_count": 11,
     "metadata": {},
     "output_type": "execute_result"
    }
   ],
   "source": [
    "statements = [\n",
    "              Statement(author='Albert', \n",
    "                        facts={'Albert': Knows.no, 'Bernard': Knows.no, 'Carl': Knows.no}),\n",
    "              Statement(author='Bernard', \n",
    "                        facts={'Bernard': Knows.no, 'Albert': Knows.no, 'Carl': Knows.no}),\n",
    "              Statement(author='Carl', \n",
    "                        facts={'Carl': Knows.no, 'Albert': Knows.no, 'Bernard': Knows.no}),\n",
    "              Statement(author='Albert', \n",
    "                        facts={'Albert': Knows.yes}), \n",
    "              Statement(author='Bernard', \n",
    "                        facts={'Bernard': Knows.yes}), \n",
    "              Statement(author='Carl', \n",
    "                        facts={'Carl': Knows.yes})\n",
    "             ]\n",
    "\n",
    "game = find_game(domains, n_candidates, statements, n_tries=1000, \n",
    "                 player_names=['Albert', 'Bernard', 'Carl'])\n",
    "game.get_solution(statements, trace=True)"
   ]
  },
  {
   "cell_type": "markdown",
   "metadata": {},
   "source": [
    "Here is an example where we cannot find a matching configuration within the given number of iterations:"
   ]
  },
  {
   "cell_type": "code",
   "execution_count": 12,
   "metadata": {
    "collapsed": false
   },
   "outputs": [
    {
     "ename": "NoGameFoundError",
     "evalue": "Counter({0: 99, 2: 1})",
     "output_type": "error",
     "traceback": [
      "\u001b[1;31m---------------------------------------------------------------------------\u001b[0m",
      "\u001b[1;31mNoGameFoundError\u001b[0m                          Traceback (most recent call last)",
      "\u001b[1;32m<ipython-input-12-367d63a504a0>\u001b[0m in \u001b[0;36m<module>\u001b[1;34m()\u001b[0m\n\u001b[0;32m      9\u001b[0m \u001b[1;33m\u001b[0m\u001b[0m\n\u001b[0;32m     10\u001b[0m game = find_game(domains, n_candidates, statements, n_tries=100, \n\u001b[1;32m---> 11\u001b[1;33m                  player_names=['Albert', 'Bernard', 'Carl'])\n\u001b[0m\u001b[0;32m     12\u001b[0m \u001b[0mgame\u001b[0m\u001b[1;33m.\u001b[0m\u001b[0mget_solution\u001b[0m\u001b[1;33m(\u001b[0m\u001b[0mstatements\u001b[0m\u001b[1;33m,\u001b[0m \u001b[0mtrace\u001b[0m\u001b[1;33m=\u001b[0m\u001b[1;32mTrue\u001b[0m\u001b[1;33m)\u001b[0m\u001b[1;33m\u001b[0m\u001b[0m\n",
      "\u001b[1;32m/mnt/home/obembom/projects/cheryl/cheryl.py\u001b[0m in \u001b[0;36mfind_game\u001b[1;34m(domains, n_candidates, statements, n_tries, player_names, seed)\u001b[0m\n\u001b[0;32m    498\u001b[0m \u001b[1;33m\u001b[0m\u001b[0m\n\u001b[0;32m    499\u001b[0m     \u001b[0mmsg\u001b[0m \u001b[1;33m=\u001b[0m \u001b[0mrepr\u001b[0m\u001b[1;33m(\u001b[0m\u001b[0mCounter\u001b[0m\u001b[1;33m(\u001b[0m\u001b[0mn_solutions\u001b[0m\u001b[1;33m)\u001b[0m\u001b[1;33m)\u001b[0m\u001b[1;33m\u001b[0m\u001b[0m\n\u001b[1;32m--> 500\u001b[1;33m     \u001b[1;32mraise\u001b[0m \u001b[0mNoGameFoundError\u001b[0m\u001b[1;33m(\u001b[0m\u001b[0mmsg\u001b[0m\u001b[1;33m)\u001b[0m\u001b[1;33m\u001b[0m\u001b[0m\n\u001b[0m\u001b[0;32m    501\u001b[0m \u001b[1;33m\u001b[0m\u001b[0m\n\u001b[0;32m    502\u001b[0m \u001b[1;33m\u001b[0m\u001b[0m\n",
      "\u001b[1;31mNoGameFoundError\u001b[0m: Counter({0: 99, 2: 1})"
     ]
    }
   ],
   "source": [
    "statements = [\n",
    "              Statement(author='Albert', \n",
    "                        facts={'Albert': Knows.no, 'Bernard': Knows.no, 'Carl': Knows.yes}),\n",
    "              Statement(author='Bernard', \n",
    "                        facts={'Bernard': Knows.no, 'Albert': Knows.no, 'Carl': Knows.yes}),\n",
    "              Statement(author='Carl', \n",
    "                        facts={'Carl': Knows.yes}),\n",
    "             ]\n",
    "\n",
    "game = find_game(domains, n_candidates, statements, n_tries=100, \n",
    "                 player_names=['Albert', 'Bernard', 'Carl'])\n",
    "game.get_solution(statements, trace=True)"
   ]
  },
  {
   "cell_type": "markdown",
   "metadata": {},
   "source": [
    "Note that the exception message shows the distribution of the number of times a given number of solutions was encountered. In this case, 99 of the 100 samples had zero solutions after applying the given statements and 1 sample had 2 solutions. Since we are looking for a configuration with exactly one solution, `find_games()` failed, but this kind of output is helpful in tweaking the statements to find a feasible configuration."
   ]
  },
  {
   "cell_type": "markdown",
   "metadata": {},
   "source": [
    "## Usage"
   ]
  },
  {
   "cell_type": "markdown",
   "metadata": {},
   "source": [
    "The `cheryl` module is available on [GitHub](https://github.com/bembom/cheryl). It is written in __Python 3.4__ but has no dependencies on other packages. The main thing to do to get the module to work in Python 2 would be to work around its lack of `Enum`s, which are used to encode if a player knows, does not know, or maybe knows the solution."
   ]
  }
 ],
 "metadata": {
  "kernelspec": {
   "display_name": "Python 3",
   "language": "python",
   "name": "python3"
  },
  "language_info": {
   "codemirror_mode": {
    "name": "ipython",
    "version": 3
   },
   "file_extension": ".py",
   "mimetype": "text/x-python",
   "name": "python",
   "nbconvert_exporter": "python",
   "pygments_lexer": "ipython3",
   "version": "3.4.3"
  }
 },
 "nbformat": 4,
 "nbformat_minor": 0
}
